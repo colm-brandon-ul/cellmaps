{
 "cells": [
  {
   "cell_type": "code",
   "execution_count": 64,
   "metadata": {},
   "outputs": [],
   "source": [
    "import rdflib"
   ]
  },
  {
   "cell_type": "code",
   "execution_count": 65,
   "metadata": {},
   "outputs": [
    {
     "name": "stdout",
     "output_type": "stream",
     "text": [
      "http://www.cellmaps.org/cellmapsontology#TmaExperiment\n",
      "\t http://www.cellmaps.org/cellmapsontology#hasTiffName\n",
      "\t\t {'range': rdflib.term.BNode('Nd8a5e9d1b99f484396a4fd0bd3c0af0b')}\n",
      "\t\t {'range': rdflib.term.BNode('Nd8a5e9d1b99f484396a4fd0bd3c0af0b')}\n",
      "\t http://www.cellmaps.org/cellmapsontology#hasChannelMarkers\n",
      "\t\t {'range': rdflib.term.URIRef('http://www.cincodebio.org/cdbontology#TXT')}\n",
      "http://www.cellmaps.org/cellmapsontology#WsiExperiment\n",
      "\t http://www.cellmaps.org/cellmapsontology#hasTiffName\n",
      "\t\t {'range': rdflib.term.BNode('Nd8a5e9d1b99f484396a4fd0bd3c0af0b')}\n",
      "\t\t {'range': rdflib.term.BNode('Nd8a5e9d1b99f484396a4fd0bd3c0af0b')}\n",
      "\t http://www.cellmaps.org/cellmapsontology#hasChannelMarkers\n",
      "\t\t {'range': rdflib.term.URIRef('http://www.cincodebio.org/cdbontology#TXT')}\n"
     ]
    }
   ],
   "source": [
    "g = rdflib.Graph().parse(\"https://raw.githubusercontent.com/colm-brandon-ul/cellmaps/master/ontology/cellmaps.owl\", format=\"xml\")\n",
    "qres = g.query(\n",
    "    \"\"\"\n",
    "    PREFIX rdfs: <http://www.w3.org/2000/01/rdf-schema#>\n",
    "    SELECT ?subclass\n",
    "    WHERE {\n",
    "      ?subclass rdfs:subClassOf <http://www.cincodebio.org/cdbontology#Experiment> .\n",
    "    }\n",
    "    \"\"\")\n",
    "\n",
    "for row in qres:\n",
    "    print(row[0])\n",
    "\n",
    "    res = g.query(\n",
    "        \"\"\"\n",
    "    PREFIX rdfs: <http://www.w3.org/2000/01/rdf-schema#>\n",
    "    PREFIX owl: <http://www.w3.org/2002/07/owl#>\n",
    "    SELECT DISTINCT ?property\n",
    "    WHERE {\n",
    "      { ?property rdfs:domain <{{}}> . }\n",
    "      UNION\n",
    "      { ?property rdfs:domain ?domain .\n",
    "        ?domain owl:unionOf ?list .\n",
    "        ?list rdf:rest*/rdf:first <{{}}> . }\n",
    "      ?property rdfs:range ?range .\n",
    "    }\n",
    "    \"\"\".replace(\"{{}}\", row[0]))\n",
    "    for col in res:\n",
    "        print('\\t',col[0])\n",
    "\n",
    "        zres = g.query(\n",
    "        \"\"\"\n",
    "        PREFIX rdfs: <http://www.w3.org/2000/01/rdf-schema#>\n",
    "        PREFIX owl: <http://www.w3.org/2002/07/owl#>\n",
    "        SELECT ?range\n",
    "        WHERE {\n",
    "          <{{}}> rdfs:range ?range .\n",
    "          OPTIONAL {\n",
    "            ?range owl:unionOf ?list .\n",
    "            ?list rdf:rest*/rdf:first ?member .\n",
    "          }\n",
    "        }\n",
    "        \"\"\".replace('{{}}',col[0]))\n",
    "        for row_ in zres:\n",
    "            print('\\t\\t',row_.asdict())"
   ]
  },
  {
   "cell_type": "code",
   "execution_count": null,
   "metadata": {},
   "outputs": [],
   "source": []
  },
  {
   "cell_type": "code",
   "execution_count": null,
   "metadata": {},
   "outputs": [],
   "source": []
  },
  {
   "cell_type": "code",
   "execution_count": 27,
   "metadata": {},
   "outputs": [
    {
     "data": {
      "text/plain": [
       "'\\n    PREFIX rdfs: <http://www.w3.org/2000/01/rdf-schema#>\\n    SELECT ?property\\n    WHERE {\\n      ?property rdfs:domain <http://www.cellmaps.org/cellmapsontology#TmaExperiment> .\\n    }\\n    '"
      ]
     },
     "execution_count": 27,
     "metadata": {},
     "output_type": "execute_result"
    }
   ],
   "source": []
  },
  {
   "cell_type": "code",
   "execution_count": null,
   "metadata": {},
   "outputs": [],
   "source": []
  },
  {
   "cell_type": "code",
   "execution_count": null,
   "metadata": {},
   "outputs": [],
   "source": []
  },
  {
   "cell_type": "code",
   "execution_count": null,
   "metadata": {},
   "outputs": [],
   "source": []
  }
 ],
 "metadata": {
  "kernelspec": {
   "display_name": "hippomissile",
   "language": "python",
   "name": "python3"
  },
  "language_info": {
   "codemirror_mode": {
    "name": "ipython",
    "version": 3
   },
   "file_extension": ".py",
   "mimetype": "text/x-python",
   "name": "python",
   "nbconvert_exporter": "python",
   "pygments_lexer": "ipython3",
   "version": "3.9.13"
  }
 },
 "nbformat": 4,
 "nbformat_minor": 2
}
